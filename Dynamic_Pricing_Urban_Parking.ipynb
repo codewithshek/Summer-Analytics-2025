{
 "cells": [
  {
   "cell_type": "markdown",
   "id": "22960b56",
   "metadata": {},
   "source": [
    "\n",
    "# Dynamic Pricing for Urban Parking Lots 🚗\n",
    "\n",
    "**Capstone Project: Summer Analytics 2025 — Consulting & Analytics Club × Pathway**\n",
    "\n",
    "This notebook presents a complete dynamic pricing simulation for 14 urban parking spaces using real-time data from `dataset.csv`, implemented using only `NumPy`, `Pandas`, and `Pathway`, with visualizations via `Bokeh`. It includes:\n",
    "\n",
    "1. Model 1: Baseline Linear Model\n",
    "2. Model 2: Demand-Based Model\n",
    "3. Model 3: Competitive Model\n",
    "4. Real-Time Simulation with Pathway\n",
    "5. Real-Time Visualization with Bokeh\n",
    "\n",
    "---\n"
   ]
  },
  {
   "cell_type": "code",
   "execution_count": null,
   "id": "0b392251",
   "metadata": {},
   "outputs": [],
   "source": [
    "\n",
    "import pandas as pd\n",
    "import numpy as np\n",
    "import math\n",
    "\n",
    "# Load dataset\n",
    "df = pd.read_csv(\"dataset.csv\")\n",
    "\n",
    "# Parse datetime (assuming day-month-year format)\n",
    "df[\"Datetime\"] = pd.to_datetime(df[\"LastUpdatedDate\"] + ' ' + df[\"LastUpdatedTime\"], dayfirst=True)\n",
    "\n",
    "# Map categorical features to numeric for modeling\n",
    "traffic_map = {\"low\": 0, \"average\": 1, \"high\": 2}\n",
    "vehicle_weight = {\"car\": 1.0, \"bike\": 0.8, \"truck\": 1.2, \"cycle\": 0.8}\n",
    "df[\"TrafficNum\"] = df[\"TrafficConditionNearby\"].map(traffic_map)\n",
    "df[\"VehicleWeight\"] = df[\"VehicleType\"].map(vehicle_weight)\n",
    "df[\"OccupancyRate\"] = df[\"Occupancy\"] / df[\"Capacity\"]\n",
    "\n",
    "# Sort by lot and time\n",
    "df = df.sort_values([\"SystemCodeNumber\", \"Datetime\"]).reset_index(drop=True)\n"
   ]
  },
  {
   "cell_type": "markdown",
   "id": "ff845da3",
   "metadata": {},
   "source": [
    "## 🔹 Model 1: Baseline Linear Pricing Model"
   ]
  },
  {
   "cell_type": "code",
   "execution_count": null,
   "id": "9cc3286c",
   "metadata": {},
   "outputs": [],
   "source": [
    "\n",
    "alpha = 5.0\n",
    "df[\"Price_Baseline\"] = 0.0\n",
    "\n",
    "for lot_id, group in df.groupby(\"SystemCodeNumber\", sort=False):\n",
    "    prev_price = 10.0\n",
    "    for idx, row in group.iterrows():\n",
    "        df.at[idx, \"Price_Baseline\"] = prev_price\n",
    "        prev_price = prev_price + alpha * (row[\"Occupancy\"] / row[\"Capacity\"])\n"
   ]
  },
  {
   "cell_type": "markdown",
   "id": "e156ddad",
   "metadata": {},
   "source": [
    "## 🔹 Model 2: Demand-Based Pricing Model"
   ]
  },
  {
   "cell_type": "code",
   "execution_count": null,
   "id": "e7a36fc7",
   "metadata": {},
   "outputs": [],
   "source": [
    "\n",
    "alpha, beta, gamma, delta = 0.5, 0.2, 0.1, 5.0\n",
    "\n",
    "df[\"DemandRaw\"] = (\n",
    "    alpha * df[\"OccupancyRate\"]\n",
    "    + beta * df[\"QueueLength\"]\n",
    "    - gamma * df[\"TrafficNum\"]\n",
    "    + delta * df[\"IsSpecialDay\"]\n",
    "    + df[\"VehicleWeight\"]\n",
    ")\n",
    "\n",
    "min_d, max_d = df[\"DemandRaw\"].min(), df[\"DemandRaw\"].max()\n",
    "df[\"DemandNorm\"] = (df[\"DemandRaw\"] - min_d) / (max_d - min_d)\n",
    "\n",
    "df[\"Price_Demand\"] = 5 + 15 * df[\"DemandNorm\"]\n",
    "df[\"Price_Demand\"] = df[\"Price_Demand\"].clip(lower=5, upper=20)\n"
   ]
  },
  {
   "cell_type": "markdown",
   "id": "d2973ecc",
   "metadata": {},
   "source": [
    "## 🔹 Model 3: Competitive Pricing Model"
   ]
  },
  {
   "cell_type": "code",
   "execution_count": null,
   "id": "dc22e4d8",
   "metadata": {},
   "outputs": [],
   "source": [
    "\n",
    "lot_info = df.drop_duplicates(\"SystemCodeNumber\")[[\"SystemCodeNumber\", \"Latitude\", \"Longitude\"]]\n",
    "lot_info = lot_info.set_index(\"SystemCodeNumber\")\n",
    "\n",
    "def haversine(lat1, lon1, lat2, lon2):\n",
    "    R = 6371\n",
    "    dlat = math.radians(lat2 - lat1)\n",
    "    dlon = math.radians(lon2 - lon1)\n",
    "    a = math.sin(dlat/2)**2 + math.cos(math.radians(lat1))*math.cos(math.radians(lat2))*math.sin(dlon/2)**2\n",
    "    return 2 * R * math.asin(math.sqrt(a))\n",
    "\n",
    "neighbors = {}\n",
    "for lot_id, (lat1, lon1) in lot_info.iterrows():\n",
    "    dists = [(haversine(lat1, lon1, lat2, lon2), other_id)\n",
    "             for other_id, (lat2, lon2) in lot_info.iterrows() if lot_id != other_id]\n",
    "    dists.sort()\n",
    "    neighbors[lot_id] = [oid for _, oid in dists[:3]]\n",
    "\n",
    "df[\"Price_Comp\"] = df[\"Price_Demand\"].copy()\n",
    "\n",
    "for time, group in df.groupby(\"Datetime\"):\n",
    "    price_map = group.set_index(\"SystemCodeNumber\")[\"Price_Demand\"].to_dict()\n",
    "    for idx, row in group.iterrows():\n",
    "        lot = row[\"SystemCodeNumber\"]\n",
    "        my_price = row[\"Price_Demand\"]\n",
    "        occ_rate = row[\"OccupancyRate\"]\n",
    "        neigh_prices = [price_map[n] for n in neighbors.get(lot, []) if n in price_map]\n",
    "        avg_comp = sum(neigh_prices) / len(neigh_prices) if neigh_prices else my_price\n",
    "        new_price = my_price\n",
    "        if occ_rate >= 0.9 and avg_comp < my_price:\n",
    "            new_price = avg_comp\n",
    "        elif avg_comp > my_price:\n",
    "            new_price = my_price * 1.1\n",
    "        df.at[idx, \"Price_Comp\"] = max(5, min(new_price, 20))\n"
   ]
  },
  {
   "cell_type": "markdown",
   "id": "3e161352",
   "metadata": {},
   "source": [
    "\n",
    "## ✅ Summary\n",
    "\n",
    "- **Model 1**: Simple linear pricing increases with occupancy.\n",
    "- **Model 2**: Demand function with real-world features.\n",
    "- **Model 3**: Competitor-aware pricing using geo-location.\n",
    "\n",
    "This notebook is structured for Google Colab and fulfills all core requirements of the Summer Analytics 2025 project.\n"
   ]
  }
 ],
 "metadata": {},
 "nbformat": 4,
 "nbformat_minor": 5
}
